{
 "cells": [
  {
   "cell_type": "markdown",
   "metadata": {},
   "source": [
    "# WeatherPy\n",
    "----\n",
    "\n",
    "#### Note\n",
    "* Instructions have been included for each segment. You do not have to follow them exactly, but they are included to help you think through the steps."
   ]
  },
  {
   "cell_type": "code",
   "execution_count": 1,
   "metadata": {
    "scrolled": true
   },
   "outputs": [],
   "source": [
    "# Dependencies and Setup\n",
    "import matplotlib.pyplot as plt\n",
    "import pandas as pd\n",
    "import numpy as np\n",
    "import requests\n",
    "import time\n",
    "import random\n",
    "from scipy.stats import linregress\n",
    "\n",
    "# Import API key\n",
    "from Config import weather_api_key\n",
    "\n",
    "# Incorporated citipy to determine city based on latitude and longitude\n",
    "from citipy import citipy\n",
    "\n",
    "from pycountry import pycountry\n",
    "\n",
    "# Output File (CSV)\n",
    "output_data_file = \"output_data/cities.csv\"\n",
    "\n",
    "# Range of latitudes and longitudes\n",
    "lat_range = (-90, 90)\n",
    "lng_range = (-180, 180)"
   ]
  },
  {
   "cell_type": "markdown",
   "metadata": {},
   "source": [
    "## Generate Cities List"
   ]
  },
  {
   "cell_type": "code",
   "execution_count": 2,
   "metadata": {},
   "outputs": [
    {
     "data": {
      "text/plain": [
       "609"
      ]
     },
     "execution_count": 2,
     "metadata": {},
     "output_type": "execute_result"
    }
   ],
   "source": [
    "# List for holding lat_lngs and cities\n",
    "lat_lngs = []\n",
    "cities =[]\n",
    "countries=[]\n",
    "cities_and_countries = []\n",
    "\n",
    "# Create a set of random lat and lng combinations\n",
    "lats = np.random.uniform(low=-90.000, high=90.000, size=1500)\n",
    "lngs = np.random.uniform(low=-180.000, high=180.000, size=1500)\n",
    "lat_lngs = zip(lats, lngs)\n",
    "\n",
    "# Identify nearest city for each lat, lng combination\n",
    "for lat_lng in lat_lngs:\n",
    "    city = citipy.nearest_city(lat_lng[0], lat_lng[1]).city_name\n",
    "    country = citipy.nearest_city(lat_lng[0], lat_lng[1]).country_code\n",
    "    city_and_country = (f'{city},{country}')\n",
    "    \n",
    "    # If the city is unique, then add it to a our cities list\n",
    "    if city_and_country not in cities_and_countries:\n",
    "        cities_and_countries.append(city_and_country)\n",
    "    \n",
    "    if city not in cities:\n",
    "        cities.append(city)\n",
    "        \n",
    "    if country not in countries:\n",
    "        countries.append(country)\n",
    "        \n",
    "#Print the city count to confirm sufficient count\n",
    "len(cities_and_countries)\n"
   ]
  },
  {
   "cell_type": "markdown",
   "metadata": {},
   "source": [
    "### Perform API Calls\n",
    "* Perform a weather check on each city using a series of successive API calls.\n",
    "* Include a print log of each city as it'sbeing processed (with the city number and city name).\n"
   ]
  },
  {
   "cell_type": "code",
   "execution_count": 31,
   "metadata": {},
   "outputs": [
    {
     "name": "stdout",
     "output_type": "stream",
     "text": [
      "['BR', 'BR', 'BR', 'BR', 'BR', 'BR', 'BR', 'BR', 'BR', 'BR', 'BR', 'BR', 'BR', 'BR', 'BR', 'BR', 'BR', 'BR', 'BR', 'BR', 'BR', 'BR', 'BR', 'BR', 'BR', 'BR', 'BR', 'BR', 'BR', 'BR', 'BR', 'BR', 'BR', 'BR', 'BR', 'BR', 'BR', 'BR', 'BR', 'BR', 'BR', 'BR', 'BR', 'BR', 'BR', 'BR', 'BR', 'BR', 'BR', 'BR', 'BR', 'BR', 'BR', 'BR', 'BR', 'BR', 'BR', 'BR', 'BR', 'BR', 'BR', 'BR', 'BR', 'BR', 'BR', 'BR', 'BR', 'BR', 'BR', 'BR', 'BR', 'BR', 'BR', 'BR', 'BR', 'BR', 'BR', 'BR', 'BR', 'BR', 'BR', 'BR', 'BR', 'BR', 'BR', 'BR', 'BR', 'BR', 'BR', 'BR', 'BR', 'BR', 'BR', 'BR', 'BR', 'BR', 'BR', 'BR', 'BR', 'BR', 'BR', 'BR', 'BR', 'BR', 'BR', 'BR', 'BR', 'BR', 'BR', 'BR', 'BR', 'BR', 'BR', 'BR', 'BR', 'BR', 'BR', 'BR', 'BR', 'BR', 'BR', 'BR', 'BR', 'BR', 'BR', 'BR', 'BR', 'BR', 'BR', 'BR', 'BR', 'BR', 'BR', 'BR', 'BR', 'BR', 'BR', 'BR', 'BR', 'BR', 'BR', 'BR', 'BR', 'BR', 'BR', 'BR', 'BR', 'BR', 'BR', 'BR', 'BR', 'BR', 'BR', 'BR', 'BR', 'BR', 'BR', 'BR', 'BR', 'BR', 'BR', 'BR', 'BR', 'BR', 'BR', 'BR', 'BR', 'BR', 'BR', 'BR', 'BR', 'BR', 'BR', 'BR', 'BR', 'BR', 'BR', 'BR', 'BR', 'BR', 'BR', 'BR', 'BR', 'BR', 'BR', 'BR', 'BR', 'BR', 'BR', 'BR', 'BR', 'BR', 'BR', 'BR', 'BR', 'BR', 'BR', 'BR', 'BR', 'BR', 'BR', 'BR', 'BR', 'BR', 'BR', 'BR', 'BR', 'BR', 'BR', 'BR', 'BR', 'BR', 'BR', 'BR', 'BR', 'BR', 'BR', 'BR', 'BR', 'BR', 'BR', 'BR', 'BR', 'BR', 'BR', 'BR', 'BR', 'BR', 'BR', 'BR', 'BR', 'BR', 'BR', 'BR', 'BR', 'BR', 'BR', 'BR', 'BR', 'BR', 'BR', 'BR', 'BR', 'BR', 'BR', 'BR', 'BR', 'BR', 'BR', 'BR', 'BR', 'BR', 'BR', 'BR', 'BR', 'BR', 'BR', 'BR', 'BR', 'BR', 'BR', 'BR', 'BR', 'BR', 'BR', 'BR', 'BR', 'BR', 'BR', 'BR', 'BR', 'BR', 'BR', 'BR', 'BR', 'BR', 'BR', 'BR', 'BR', 'BR', 'BR', 'BR', 'BR', 'BR', 'BR', 'BR', 'BR', 'BR', 'BR', 'BR', 'BR', 'BR', 'BR', 'BR', 'BR', 'BR', 'BR', 'BR', 'BR', 'BR', 'BR', 'BR', 'BR', 'BR', 'BR', 'BR', 'BR', 'BR', 'BR', 'BR', 'BR', 'BR', 'BR', 'BR', 'BR', 'BR', 'BR', 'BR', 'BR', 'BR', 'BR', 'BR', 'BR', 'BR', 'BR', 'BR', 'BR', 'BR', 'BR', 'BR', 'BR', 'BR', 'BR', 'BR', 'BR', 'BR', 'BR', 'BR', 'BR', 'BR', 'BR', 'BR', 'BR', 'BR', 'BR', 'BR', 'BR', 'BR', 'BR', 'BR', 'BR', 'BR', 'BR', 'BR', 'BR', 'BR', 'BR', 'BR', 'BR', 'BR', 'BR', 'BR', 'BR', 'BR', 'BR', 'BR', 'BR', 'BR', 'BR', 'BR', 'BR', 'BR', 'BR', 'BR', 'BR', 'BR', 'BR', 'BR', 'BR', 'BR', 'BR', 'BR', 'BR', 'BR', 'BR', 'BR', 'BR', 'BR', 'BR', 'BR', 'BR', 'BR', 'BR', 'BR', 'BR', 'BR', 'BR', 'BR', 'BR', 'BR', 'BR', 'BR', 'BR', 'BR', 'BR', 'BR', 'BR', 'BR', 'BR', 'BR', 'BR', 'BR', 'BR', 'BR', 'BR', 'BR', 'BR', 'BR', 'BR', 'BR', 'BR', 'BR', 'BR', 'BR', 'BR', 'BR', 'BR', 'BR', 'BR', 'BR', 'BR', 'BR', 'BR', 'BR', 'BR', 'BR', 'BR', 'BR', 'BR', 'BR', 'BR', 'BR', 'BR', 'BR', 'BR', 'BR', 'BR', 'BR', 'BR', 'BR', 'BR', 'BR', 'BR', 'BR', 'BR', 'BR', 'BR', 'BR', 'BR', 'BR', 'BR', 'BR', 'BR', 'BR', 'BR', 'BR', 'BR', 'BR', 'BR', 'BR', 'BR', 'BR', 'BR', 'BR', 'BR', 'BR', 'BR', 'BR', 'BR', 'BR', 'BR', 'BR', 'BR', 'BR', 'BR', 'BR', 'BR', 'BR', 'BR', 'BR', 'BR', 'BR', 'BR', 'BR', 'BR', 'BR', 'BR', 'BR', 'BR', 'BR', 'BR', 'BR', 'BR', 'BR', 'BR', 'BR', 'BR', 'BR', 'BR', 'BR', 'BR', 'BR', 'BR', 'BR', 'BR', 'BR', 'BR', 'BR', 'BR', 'BR', 'BR', 'BR', 'BR', 'BR', 'BR', 'BR', 'BR', 'BR', 'BR', 'BR', 'BR', 'BR', 'BR', 'BR', 'BR', 'BR', 'BR', 'BR', 'BR', 'BR', 'BR', 'BR', 'BR', 'BR', 'BR', 'BR', 'BR', 'BR', 'BR', 'BR', 'BR', 'BR', 'BR', 'BR', 'BR', 'BR', 'BR', 'BR', 'BR', 'BR', 'BR', 'BR', 'BR', 'BR', 'BR', 'BR', 'BR', 'BR', 'BR', 'BR', 'BR', 'BR', 'BR', 'BR', 'BR', 'BR', 'BR', 'BR', 'BR', 'BR', 'BR', 'BR', 'BR', 'BR', 'BR', 'BR', 'BR', 'BR', 'BR', 'BR', 'BR', 'BR', 'BR', 'BR', 'BR', 'BR', 'BR', 'BR', 'BR', 'BR', 'BR', 'BR', 'BR', 'BR', 'BR', 'BR', 'BR', 'BR', 'BR']\n"
     ]
    }
   ],
   "source": [
    "url = \"http://api.openweathermap.org/data/2.5/weather?\"\n",
    "\n",
    "city_weather = {}\n",
    "city = []\n",
    "country = []\n",
    "lat = []\n",
    "temp = []\n",
    "hum = []\n",
    "cloudy = []\n",
    "wind = []\n",
    "date = []\n",
    "long = []\n",
    "max_temp = []\n",
    "count = 0\n",
    "\n",
    "for city_and_country in cities_and_countries:\n",
    "    try:\n",
    "        query_url = f\"{url}appid={weather_api_key}&q={city_and_country}&units=Imperial&q=\"\n",
    "        response = requests.get(query_url).json()\n",
    "        \n",
    "        city.append(response['name'])\n",
    "        country.append(response['sys']['country'])\n",
    "        lat.append(response['coord']['lat'])\n",
    "        long.append(response['coord']['lon'])\n",
    "        temp.append(response['main']['temp'])\n",
    "        max_temp.append(response['main']['temp_max'])\n",
    "        hum.append(response['main']['humidity'])\n",
    "        cloudy.append(response['clouds']['all'])\n",
    "        wind.append(response['wind']['speed'])\n",
    "        date.append(response[\"dt\"])\n",
    "    \n",
    "        count = count + 1\n",
    "        print(f'Processing Record {count} | {city_and_country}')\n",
    "   \n",
    "    except:\n",
    "        count = count + 1\n",
    "        print(f'Record {count} for {city_and_country} not found. Skipping...')\n",
    "\n",
    "city_weather = {\n",
    "    \"Date\": [pd.to_datetime(date,unit='s')],\n",
    "    \"City\": city,\n",
    "    \"Country\": country,\n",
    "    \"Latitude\": lat,\n",
    "    \"Longitude\": long,\n",
    "    \"Temperature\": temp,\n",
    "    \"Max Temperature\": max_temp,\n",
    "    \"Humidity %\": hum,\n",
    "    \"Cloudiness %\": cloudy,\n",
    "    \"Wind Speed (MPH)\": wind\n",
    "}\n",
    "\n",
    "city_weather_df = pd.DataFrame(city_weather)\n",
    "\n",
    "city_weather_df.head()\n"
   ]
  },
  {
   "cell_type": "markdown",
   "metadata": {},
   "source": [
    "### Convert Raw Data to DataFrame\n",
    "* Export the city data into a .csv.\n",
    "* Display the DataFrame"
   ]
  },
  {
   "cell_type": "code",
   "execution_count": 30,
   "metadata": {},
   "outputs": [
    {
     "name": "stdout",
     "output_type": "stream",
     "text": [
      "[-17.73, -17.73, -17.73, -17.73, -17.73, -17.73, -17.73, -17.73, -17.73, -17.73, -17.73, -17.73, -17.73, -17.73, -17.73, -17.73, -17.73, -17.73, -17.73, -17.73, -17.73, -17.73, -17.73, -17.73, -17.73, -17.73, -17.73, -17.73, -17.73, -17.73, -17.73, -17.73, -17.73, -17.73, -17.73, -17.73, -17.73, -17.73, -17.73, -17.73, -17.73, -17.73, -17.73, -17.73, -17.73, -17.73, -17.73, -17.73, -17.73, -17.73, -17.73, -17.73, -17.73, -17.73, -17.73, -17.73, -17.73, -17.73, -17.73, -17.73, -17.73, -17.73, -17.73, -17.73, -17.73, -17.73, -17.73, -17.73, -17.73, -17.73, -17.73, -17.73, -17.73, -17.73, -17.73, -17.73, -17.73, -17.73, -17.73, -17.73, -17.73, -17.73, -17.73, -17.73, -17.73, -17.73, -17.73, -17.73, -17.73, -17.73, -17.73, -17.73, -17.73, -17.73, -17.73, -17.73, -17.73, -17.73, -17.73, -17.73, -17.73, -17.73, -17.73, -17.73, -17.73, -17.73, -17.73, -17.73, -17.73, -17.73, -17.73, -17.73, -17.73, -17.73, -17.73, -17.73, -17.73, -17.73, -17.73, -17.73, -17.73, -17.73, -17.73, -17.73, -17.73, -17.73, -17.73, -17.73, -17.73, -17.73, -17.73, -17.73, -17.73, -17.73, -17.73, -17.73, -17.73, -17.73, -17.73, -17.73, -17.73, -17.73, -17.73, -17.73, -17.73, -17.73, -17.73, -17.73, -17.73, -17.73, -17.73, -17.73, -17.73, -17.73, -17.73, -17.73, -17.73, -17.73, -17.73, -17.73, -17.73, -17.73, -17.73, -17.73, -17.73, -17.73, -17.73, -17.73, -17.73, -17.73, -17.73, -17.73, -17.73, -17.73, -17.73, -17.73, -17.73, -17.73, -17.73, -17.73, -17.73, -17.73, -17.73, -17.73, -17.73, -17.73, -17.73, -17.73, -17.73, -17.73, -17.73, -17.73, -17.73, -17.73, -17.73, -17.73, -17.73, -17.73, -17.73, -17.73, -17.73, -17.73, -17.73, -17.73, -17.73, -17.73, -17.73, -17.73, -17.73, -17.73, -17.73, -17.73, -17.73, -17.73, -17.73, -17.73, -17.73, -17.73, -17.73, -17.73, -17.73, -17.73, -17.73, -17.73, -17.73, -17.73, -17.73, -17.73, -17.73, -17.73, -17.73, -17.73, -17.73, -17.73, -17.73, -17.73, -17.73, -17.73, -17.73, -17.73, -17.73, -17.73, -17.73, -17.73, -17.73, -17.73, -17.73, -17.73, -17.73, -17.73, -17.73, -17.73, -17.73, -17.73, -17.73, -17.73, -17.73, -17.73, -17.73, -17.73, -17.73, -17.73, -17.73, -17.73, -17.73, -17.73, -17.73, -17.73, -17.73, -17.73, -17.73, -17.73, -17.73, -17.73, -17.73, -17.73, -17.73, -17.73, -17.73, -17.73, -17.73, -17.73, -17.73, -17.73, -17.73, -17.73, -17.73, -17.73, -17.73, -17.73, -17.73, -17.73, -17.73, -17.73, -17.73, -17.73, -17.73, -17.73, -17.73, -17.73, -17.73, -17.73, -17.73, -17.73, -17.73, -17.73, -17.73, -17.73, -17.73, -17.73, -17.73, -17.73, -17.73, -17.73, -17.73, -17.73, -17.73, -17.73, -17.73, -17.73, -17.73, -17.73, -17.73, -17.73, -17.73, -17.73, -17.73, -17.73, -17.73, -17.73, -17.73, -17.73, -17.73, -17.73, -17.73, -17.73, -17.73, -17.73, -17.73, -17.73, -17.73, -17.73, -17.73, -17.73, -17.73, -17.73, -17.73, -17.73, -17.73, -17.73, -17.73, -17.73, -17.73, -17.73, -17.73, -17.73, -17.73, -17.73, -17.73, -17.73, -17.73, -17.73, -17.73, -17.73, -17.73, -17.73, -17.73, -17.73, -17.73, -17.73, -17.73, -17.73, -17.73, -17.73, -17.73, -17.73, -17.73, -17.73, -17.73, -17.73, -17.73, -17.73, -17.73, -17.73, -17.73, -17.73, -17.73, -17.73, -17.73, -17.73, -17.73, -17.73, -17.73, -17.73, -17.73, -17.73, -17.73, -17.73, -17.73, -17.73, -17.73, -17.73, -17.73, -17.73, -17.73, -17.73, -17.73, -17.73, -17.73, -17.73, -17.73, -17.73, -17.73, -17.73, -17.73, -17.73, -17.73, -17.73, -17.73, -17.73, -17.73, -17.73, -17.73, -17.73, -17.73, -17.73, -17.73, -17.73, -17.73, -17.73, -17.73, -17.73, -17.73, -17.73, -17.73, -17.73, -17.73, -17.73, -17.73, -17.73, -17.73, -17.73, -17.73, -17.73, -17.73, -17.73, -17.73, -17.73, -17.73, -17.73, -17.73, -17.73, -17.73, -17.73, -17.73, -17.73, -17.73, -17.73, -17.73, -17.73, -17.73, -17.73, -17.73, -17.73, -17.73, -17.73, -17.73, -17.73, -17.73, -17.73, -17.73, -17.73, -17.73, -17.73, -17.73, -17.73, -17.73, -17.73, -17.73, -17.73, -17.73, -17.73, -17.73, -17.73, -17.73, -17.73, -17.73, -17.73, -17.73, -17.73, -17.73, -17.73, -17.73, -17.73, -17.73, -17.73, -17.73, -17.73, -17.73, -17.73, -17.73, -17.73, -17.73, -17.73, -17.73, -17.73, -17.73, -17.73, -17.73, -17.73, -17.73, -17.73, -17.73, -17.73, -17.73, -17.73, -17.73, -17.73, -17.73, -17.73, -17.73, -17.73, -17.73, -17.73, -17.73, -17.73, -17.73, -17.73, -17.73, -17.73, -17.73, -17.73, -17.73, -17.73, -17.73, -17.73, -17.73, -17.73, -17.73, -17.73, -17.73, -17.73, -17.73, -17.73, -17.73, -17.73, -17.73, -17.73, -17.73, -17.73, -17.73, -17.73, -17.73, -17.73, -17.73, -17.73, -17.73, -17.73, -17.73, -17.73, -17.73, -17.73, -17.73, -17.73, -17.73, -17.73, -17.73, -17.73, -17.73, -17.73, -17.73, -17.73, -17.73, -17.73, -17.73, -17.73, -17.73, -17.73, -17.73, -17.73, -17.73, -17.73, -17.73, -17.73, -17.73, -17.73, -17.73, -17.73, -17.73, -17.73, -17.73, -17.73, -17.73, -17.73, -17.73, -17.73, -17.73, -17.73, -17.73, -17.73, -17.73, -17.73, -17.73, -17.73, -17.73, -17.73, -17.73, -17.73, -17.73]\n"
     ]
    }
   ],
   "source": [
    "print(lat)"
   ]
  },
  {
   "cell_type": "code",
   "execution_count": null,
   "metadata": {},
   "outputs": [],
   "source": []
  },
  {
   "cell_type": "markdown",
   "metadata": {},
   "source": [
    "### Plotting the Data\n",
    "* Use proper labeling of the plots using plot titles (including date of analysis) and axes labels.\n",
    "* Save the plotted figures as .pngs."
   ]
  },
  {
   "cell_type": "markdown",
   "metadata": {},
   "source": [
    "#### Latitude vs. Temperature Plot"
   ]
  },
  {
   "cell_type": "code",
   "execution_count": null,
   "metadata": {
    "scrolled": true
   },
   "outputs": [],
   "source": []
  },
  {
   "cell_type": "markdown",
   "metadata": {},
   "source": [
    "#### Latitude vs. Humidity Plot"
   ]
  },
  {
   "cell_type": "code",
   "execution_count": null,
   "metadata": {},
   "outputs": [],
   "source": []
  },
  {
   "cell_type": "markdown",
   "metadata": {},
   "source": [
    "#### Latitude vs. Cloudiness Plot"
   ]
  },
  {
   "cell_type": "code",
   "execution_count": null,
   "metadata": {},
   "outputs": [],
   "source": []
  },
  {
   "cell_type": "markdown",
   "metadata": {},
   "source": [
    "#### Latitude vs. Wind Speed Plot"
   ]
  },
  {
   "cell_type": "code",
   "execution_count": null,
   "metadata": {},
   "outputs": [],
   "source": []
  },
  {
   "cell_type": "markdown",
   "metadata": {},
   "source": [
    "## Linear Regression"
   ]
  },
  {
   "cell_type": "code",
   "execution_count": 4,
   "metadata": {},
   "outputs": [],
   "source": [
    "# OPTIONAL: Create a function to create Linear Regression plots\n"
   ]
  },
  {
   "cell_type": "code",
   "execution_count": 5,
   "metadata": {},
   "outputs": [],
   "source": [
    "# Create Northern and Southern Hemisphere DataFrames\n"
   ]
  },
  {
   "cell_type": "markdown",
   "metadata": {},
   "source": [
    "####  Northern Hemisphere - Max Temp vs. Latitude Linear Regression"
   ]
  },
  {
   "cell_type": "code",
   "execution_count": null,
   "metadata": {},
   "outputs": [],
   "source": []
  },
  {
   "cell_type": "markdown",
   "metadata": {},
   "source": [
    "####  Southern Hemisphere - Max Temp vs. Latitude Linear Regression"
   ]
  },
  {
   "cell_type": "code",
   "execution_count": null,
   "metadata": {},
   "outputs": [],
   "source": []
  },
  {
   "cell_type": "markdown",
   "metadata": {},
   "source": [
    "####  Northern Hemisphere - Humidity (%) vs. Latitude Linear Regression"
   ]
  },
  {
   "cell_type": "code",
   "execution_count": null,
   "metadata": {},
   "outputs": [],
   "source": []
  },
  {
   "cell_type": "markdown",
   "metadata": {},
   "source": [
    "####  Southern Hemisphere - Humidity (%) vs. Latitude Linear Regression"
   ]
  },
  {
   "cell_type": "code",
   "execution_count": null,
   "metadata": {},
   "outputs": [],
   "source": []
  },
  {
   "cell_type": "markdown",
   "metadata": {},
   "source": [
    "####  Northern Hemisphere - Cloudiness (%) vs. Latitude Linear Regression"
   ]
  },
  {
   "cell_type": "code",
   "execution_count": null,
   "metadata": {},
   "outputs": [],
   "source": []
  },
  {
   "cell_type": "markdown",
   "metadata": {},
   "source": [
    "####  Southern Hemisphere - Cloudiness (%) vs. Latitude Linear Regression"
   ]
  },
  {
   "cell_type": "code",
   "execution_count": null,
   "metadata": {},
   "outputs": [],
   "source": []
  },
  {
   "cell_type": "markdown",
   "metadata": {},
   "source": [
    "####  Northern Hemisphere - Wind Speed (mph) vs. Latitude Linear Regression"
   ]
  },
  {
   "cell_type": "code",
   "execution_count": null,
   "metadata": {},
   "outputs": [],
   "source": []
  },
  {
   "cell_type": "markdown",
   "metadata": {},
   "source": [
    "####  Southern Hemisphere - Wind Speed (mph) vs. Latitude Linear Regression"
   ]
  },
  {
   "cell_type": "code",
   "execution_count": null,
   "metadata": {},
   "outputs": [],
   "source": []
  },
  {
   "cell_type": "code",
   "execution_count": null,
   "metadata": {},
   "outputs": [],
   "source": []
  }
 ],
 "metadata": {
  "anaconda-cloud": {},
  "kernel_info": {
   "name": "python3"
  },
  "kernelspec": {
   "display_name": "Python 3",
   "language": "python",
   "name": "python3"
  },
  "language_info": {
   "codemirror_mode": {
    "name": "ipython",
    "version": 3
   },
   "file_extension": ".py",
   "mimetype": "text/x-python",
   "name": "python",
   "nbconvert_exporter": "python",
   "pygments_lexer": "ipython3",
   "version": "3.7.3"
  },
  "latex_envs": {
   "LaTeX_envs_menu_present": true,
   "autoclose": false,
   "autocomplete": true,
   "bibliofile": "biblio.bib",
   "cite_by": "apalike",
   "current_citInitial": 1,
   "eqLabelWithNumbers": true,
   "eqNumInitial": 1,
   "hotkeys": {
    "equation": "Ctrl-E",
    "itemize": "Ctrl-I"
   },
   "labels_anchors": false,
   "latex_user_defs": false,
   "report_style_numbering": false,
   "user_envs_cfg": false
  },
  "nteract": {
   "version": "0.12.3"
  }
 },
 "nbformat": 4,
 "nbformat_minor": 2
}
